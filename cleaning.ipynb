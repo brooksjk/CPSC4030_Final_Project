{
 "cells": [
  {
   "cell_type": "code",
   "execution_count": 1,
   "metadata": {},
   "outputs": [
    {
     "name": "stderr",
     "output_type": "stream",
     "text": [
      "C:\\Users\\evkes\\AppData\\Local\\Temp\\ipykernel_21220\\2021273194.py:5: DtypeWarning: Columns (3) have mixed types. Specify dtype option on import or set low_memory=False.\n",
      "  df = pd.read_csv(file_path)\n"
     ]
    }
   ],
   "source": [
    "import pandas as pd\n",
    "\n",
    "file_path = r'C:\\Users\\evkes\\OneDrive\\Desktop\\CPSC 4030\\Motor_Vehicle_Collisions_-_Crashes.csv'\n",
    "\n",
    "df = pd.read_csv(file_path)\n",
    "\n",
    "columns_to_delete = ['ON STREET NAME', 'CROSS STREET NAME', 'OFF STREET NAME', 'LOCATION',\n",
    "                      'CONTRIBUTING FACTOR VEHICLE 3', 'CONTRIBUTING FACTOR VEHICLE 4',\n",
    "                      'CONTRIBUTING FACTOR VEHICLE 5', 'VEHICLE TYPE CODE 3',\n",
    "                      'VEHICLE TYPE CODE 4', 'VEHICLE TYPE CODE 5']\n",
    "\n",
    "df = df.drop(columns=columns_to_delete)\n",
    "\n",
    "columns_to_check = ['CRASH DATE', 'CRASH TIME', 'BOROUGH', 'ZIP CODE', 'LATITUDE', 'LONGITUDE', 'NUMBER OF PERSONS INJURED', 'NUMBER OF PERSONS KILLED']\n",
    "\n",
    "df['BOROUGH'] = df['BOROUGH'].str.lower().str.capitalize()\n",
    "\n",
    "df = df.dropna(subset=columns_to_check)\n",
    "df = df[(df[columns_to_check] != 0).all(axis=1)]\n",
    "\n",
    "df.to_csv('deadly_crash_data.csv', index=False)"
   ]
  },
  {
   "cell_type": "code",
   "execution_count": 1,
   "metadata": {},
   "outputs": [
    {
     "name": "stderr",
     "output_type": "stream",
     "text": [
      "C:\\Users\\evkes\\AppData\\Local\\Temp\\ipykernel_22232\\1372089819.py:5: DtypeWarning: Columns (3) have mixed types. Specify dtype option on import or set low_memory=False.\n",
      "  df = pd.read_csv(file_path)\n"
     ]
    }
   ],
   "source": [
    "import pandas as pd\n",
    "\n",
    "file_path = r'C:\\Users\\evkes\\OneDrive\\Desktop\\CPSC 4030\\Motor_Vehicle_Collisions_-_Crashes.csv'\n",
    "\n",
    "df = pd.read_csv(file_path)\n",
    "\n",
    "columns_to_delete = ['ON STREET NAME', 'CROSS STREET NAME', 'OFF STREET NAME', 'LOCATION',\n",
    "                      'CONTRIBUTING FACTOR VEHICLE 3', 'CONTRIBUTING FACTOR VEHICLE 4',\n",
    "                      'CONTRIBUTING FACTOR VEHICLE 5', 'VEHICLE TYPE CODE 3',\n",
    "                      'VEHICLE TYPE CODE 4', 'VEHICLE TYPE CODE 5']\n",
    "\n",
    "df = df.drop(columns=columns_to_delete)\n",
    "\n",
    "columns_to_check = ['CRASH DATE', 'CRASH TIME', 'BOROUGH', 'ZIP CODE', 'LATITUDE', 'LONGITUDE']\n",
    "\n",
    "df['BOROUGH'] = df['BOROUGH'].str.lower().str.capitalize()\n",
    "\n",
    "df = df.dropna(subset=columns_to_check)\n",
    "df = df[(df[columns_to_check] != 0).all(axis=1)]\n",
    "\n",
    "df.to_csv('cleaned_crash_data_zipc.csv', index=False)"
   ]
  }
 ],
 "metadata": {
  "kernelspec": {
   "display_name": "Python 3",
   "language": "python",
   "name": "python3"
  },
  "language_info": {
   "codemirror_mode": {
    "name": "ipython",
    "version": 3
   },
   "file_extension": ".py",
   "mimetype": "text/x-python",
   "name": "python",
   "nbconvert_exporter": "python",
   "pygments_lexer": "ipython3",
   "version": "3.10.11"
  },
  "orig_nbformat": 4
 },
 "nbformat": 4,
 "nbformat_minor": 2
}
