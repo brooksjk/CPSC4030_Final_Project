{
 "cells": [
  {
   "cell_type": "code",
   "execution_count": 4,
   "metadata": {},
   "outputs": [
    {
     "name": "stderr",
     "output_type": "stream",
     "text": [
      "C:\\Users\\evkes\\AppData\\Local\\Temp\\ipykernel_29844\\3661996028.py:5: DtypeWarning: Columns (3) have mixed types. Specify dtype option on import or set low_memory=False.\n",
      "  df = pd.read_csv(input_file_path, usecols=range(19))\n"
     ]
    }
   ],
   "source": [
    "import pandas as pd\n",
    "\n",
    "input_file_path = r'cleaned_crash_data_zipc.csv'\n",
    "\n",
    "df = pd.read_csv(input_file_path, usecols=range(19))\n",
    "\n",
    "# df['VEHICLE TYPE CODE 1'] = df['VEHICLE TYPE CODE 1'].str.lower().str.capitalize()\n",
    "# df['VEHICLE TYPE CODE 2'] = df['VEHICLE TYPE CODE 2'].str.lower().str.capitalize()\n",
    "\n",
    "# df.loc[df['VEHICLE TYPE CODE 1'].str.contains('bicycle', case=False, na=False), 'VEHICLE TYPE CODE 1'] = \"Bike\"\n",
    "# df.loc[df['VEHICLE TYPE CODE 2'].str.contains('bicycle', case=False, na=False), 'VEHICLE TYPE CODE 2'] = \"Bike\"\n",
    "\n",
    "# df.loc[df['VEHICLE TYPE CODE 1'].str.contains('sedan', case=False, na=False), 'VEHICLE TYPE CODE 1'] = \"Sedan\"\n",
    "# df.loc[df['VEHICLE TYPE CODE 2'].str.contains('sedan', case=False, na=False), 'VEHICLE TYPE CODE 2'] = \"Sedan\"\n",
    "\n",
    "df.loc[df['VEHICLE TYPE CODE 1'] == 'Station wagon/sport utility vehicle', 'VEHICLE TYPE CODE 1'] = \"Sport utility / station wagon\"\n",
    "df.loc[df['VEHICLE TYPE CODE 2'] == 'Station wagon/sport utility vehicle', 'VEHICLE TYPE CODE 2'] = \"Sport utility / station wagon\"\n",
    "\n",
    "\n",
    "df.to_csv(input_file_path, index=False)\n"
   ]
  },
  {
   "cell_type": "code",
   "execution_count": 9,
   "metadata": {},
   "outputs": [
    {
     "name": "stderr",
     "output_type": "stream",
     "text": [
      "C:\\Users\\evkes\\AppData\\Local\\Temp\\ipykernel_29844\\784873613.py:7: DtypeWarning: Columns (3) have mixed types. Specify dtype option on import or set low_memory=False.\n",
      "  df = pd.read_csv(input_file_path, usecols=range(19))\n"
     ]
    }
   ],
   "source": [
    "import pandas as pd\n",
    "import numpy as np\n",
    "\n",
    "input_file_path = r'cleaned_crash_data_zipc.csv'\n",
    "\n",
    "# Read the CSV file, only the first 19 columns\n",
    "df = pd.read_csv(input_file_path, usecols=range(19))\n",
    "\n",
    "# Function to randomly assign vehicle type\n",
    "def random_vehicle_type():\n",
    "    # np.random.randint(1, 5) generates a number from 1 to 4 (the upper bound is exclusive)\n",
    "    return \"Sport utility vehicle / Mini van\" if np.random.randint(1, 16) <= 2 else \"Station wagon\"\n",
    "\n",
    "# Apply the function to each row for 'VEHICLE TYPE CODE 1'\n",
    "mask = df['VEHICLE TYPE CODE 1'] == 'Sport utility / station wagon'\n",
    "df.loc[mask, 'VEHICLE TYPE CODE 1'] = df.loc[mask, 'VEHICLE TYPE CODE 1'].apply(lambda x: random_vehicle_type())\n",
    "\n",
    "# Apply the function to each row for 'VEHICLE TYPE CODE 2'\n",
    "mask = df['VEHICLE TYPE CODE 2'] == 'Sport utility / station wagon'\n",
    "df.loc[mask, 'VEHICLE TYPE CODE 2'] = df.loc[mask, 'VEHICLE TYPE CODE 2'].apply(lambda x: random_vehicle_type())\n",
    "\n",
    "# Save the DataFrame back to CSV\n",
    "df.to_csv(input_file_path, index=False)\n"
   ]
  },
  {
   "cell_type": "code",
   "execution_count": 12,
   "metadata": {},
   "outputs": [
    {
     "name": "stderr",
     "output_type": "stream",
     "text": [
      "C:\\Users\\evkes\\AppData\\Local\\Temp\\ipykernel_29844\\451366651.py:6: DtypeWarning: Columns (3) have mixed types. Specify dtype option on import or set low_memory=False.\n",
      "  df = pd.read_csv(input_file_path, usecols=range(19))\n"
     ]
    },
    {
     "name": "stdout",
     "output_type": "stream",
     "text": [
      "['none' nan 'Driver Inexperience' 'Passing Too Closely'\n",
      " 'Turning Improperly' 'Reaction to Uninvolved Vehicle' 'Steering Failure'\n",
      " 'Following Too Closely' 'Passing or Lane Usage Improper'\n",
      " 'Driver Inattention/Distraction' 'Oversized Vehicle'\n",
      " 'Alcohol Involvement' 'View Obstructed/Limited'\n",
      " 'Traffic Control Disregarded' 'Failure to Yield Right-of-Way'\n",
      " 'Aggressive Driving/Road Rage' 'Unsafe Speed' 'Pavement Slippery'\n",
      " 'Illnes' 'Lost Consciousness' 'Other Vehicular' 'Brakes Defective'\n",
      " 'Backing Unsafely' 'Passenger Distraction' 'Fell Asleep'\n",
      " 'Unsafe Lane Changing' 'Obstruction/Debris' 'Tinted Windows'\n",
      " 'Pedestrian/Bicyclist/Other Pedestrian Error/Confusion' 'Animals Action'\n",
      " 'Drugs (illegal)' 'Outside Car Distraction' 'Tire Failure/Inadequate'\n",
      " 'Pavement Defective' 'Fatigued/Drowsy' 'Accelerator Defective'\n",
      " 'Physical Disability' 'Glare' 'Driverless/Runaway Vehicle'\n",
      " 'Eating or Drinking' 'Failure to Keep Right' 'Cell Phone (hands-free)'\n",
      " 'Lane Marking Improper/Inadequate' 'Headlights Defective'\n",
      " 'Cell Phone (hand-held)' 'Windshield Inadequate' 'Vehicle Vandalism'\n",
      " 'Prescription Medication' 'Other Electronic Device'\n",
      " 'Using On Board Navigation Device'\n",
      " 'Traffic Control Device Improper/Non-Working' 'Tow Hitch Defective'\n",
      " 'Texting' 'Other Lighting Defects' 'Shoulders Defective/Improper'\n",
      " 'Listening/Using Headphones' 'Reaction to Other Uninvolved Vehicle'\n",
      " 'Illness']\n"
     ]
    }
   ],
   "source": [
    "import pandas as pd\n",
    "\n",
    "input_file_path = r'cleaned_crash_data_zipc.csv'\n",
    "\n",
    "# Read the CSV file, only the first 19 columns\n",
    "df = pd.read_csv(input_file_path, usecols=range(19))\n",
    "\n",
    "# If 'CONTRIBUTING FACTOR VEHICLE 1' is in the columns, print out the unique values\n",
    "if 'CONTRIBUTING FACTOR VEHICLE 1' in df.columns:\n",
    "    unique_factors = df['CONTRIBUTING FACTOR VEHICLE 1'].unique()\n",
    "    print(unique_factors)"
   ]
  }
 ],
 "metadata": {
  "kernelspec": {
   "display_name": "Python 3",
   "language": "python",
   "name": "python3"
  },
  "language_info": {
   "codemirror_mode": {
    "name": "ipython",
    "version": 3
   },
   "file_extension": ".py",
   "mimetype": "text/x-python",
   "name": "python",
   "nbconvert_exporter": "python",
   "pygments_lexer": "ipython3",
   "version": "3.10.11"
  }
 },
 "nbformat": 4,
 "nbformat_minor": 2
}
